{
 "cells": [
  {
   "cell_type": "code",
   "execution_count": 19,
   "metadata": {},
   "outputs": [],
   "source": [
    "import pandas as pd"
   ]
  },
  {
   "cell_type": "code",
   "execution_count": 27,
   "metadata": {},
   "outputs": [
    {
     "data": {
      "text/plain": [
       "Voter ID     3521001\n",
       "County       3521001\n",
       "Candidate    3521001\n",
       "dtype: int64"
      ]
     },
     "execution_count": 27,
     "metadata": {},
     "output_type": "execute_result"
    }
   ],
   "source": [
    "election_data_path = \"Resources/election_data.csv\"\n",
    "election_df = pd.read_csv(election_data_path)\n",
    "election_df\n",
    "\n",
    "votes_cast = election_df.count()\n",
    "votes_cast"
   ]
  },
  {
   "cell_type": "code",
   "execution_count": 29,
   "metadata": {},
   "outputs": [
    {
     "data": {
      "text/plain": [
       "Khan        2218231\n",
       "Correy       704200\n",
       "Li           492940\n",
       "O'Tooley     105630\n",
       "Name: Candidate, dtype: int64"
      ]
     },
     "execution_count": 29,
     "metadata": {},
     "output_type": "execute_result"
    }
   ],
   "source": [
    "candidates = election_df['Candidate'].value_counts()\n",
    "candidates"
   ]
  },
  {
   "cell_type": "code",
   "execution_count": 33,
   "metadata": {},
   "outputs": [
    {
     "data": {
      "text/plain": [
       "63.00001050837531"
      ]
     },
     "execution_count": 33,
     "metadata": {},
     "output_type": "execute_result"
    }
   ],
   "source": [
    "percentageKhan = (2218231 / 3521001) * 100\n",
    "percentageKhan"
   ]
  },
  {
   "cell_type": "code",
   "execution_count": 34,
   "metadata": {},
   "outputs": [
    {
     "data": {
      "text/plain": [
       "19.999994319797125"
      ]
     },
     "execution_count": 34,
     "metadata": {},
     "output_type": "execute_result"
    }
   ],
   "source": [
    "percentageCorrey = (704200 / 3521001) * 100\n",
    "percentageCorrey"
   ]
  },
  {
   "cell_type": "code",
   "execution_count": 35,
   "metadata": {},
   "outputs": [
    {
     "data": {
      "text/plain": [
       "13.999996023857989"
      ]
     },
     "execution_count": 35,
     "metadata": {},
     "output_type": "execute_result"
    }
   ],
   "source": [
    "percentageLi = (492940 / 3521001) * 100\n",
    "percentageLi"
   ]
  },
  {
   "cell_type": "code",
   "execution_count": 36,
   "metadata": {},
   "outputs": [
    {
     "data": {
      "text/plain": [
       "2.999999147969569"
      ]
     },
     "execution_count": 36,
     "metadata": {},
     "output_type": "execute_result"
    }
   ],
   "source": [
    "percentageOTooley = (105630 / 3521001) * 100\n",
    "percentageOTooley"
   ]
  },
  {
   "cell_type": "code",
   "execution_count": 49,
   "metadata": {},
   "outputs": [
    {
     "name": "stdout",
     "output_type": "stream",
     "text": [
      "Election Results\n",
      "--------------------\n",
      "Total Votes: 3521001\n",
      "--------------------\n",
      "Khan: 63.00001050837531% (2218231)\n",
      "Correy: 19.999994319797125% (704200)\n",
      "Li: 13.999996023857989% (492940)\n",
      "OTooley: 2.999999147969569% (105630)\n",
      "--------------------\n",
      "Winner: Khan\n",
      "--------------------\n"
     ]
    }
   ],
   "source": [
    "print('Election Results')\n",
    "print('--------------------')\n",
    "print('Total Votes: 3521001')\n",
    "print('--------------------')\n",
    "print(f'Khan: {str(percentageKhan)}% (2218231)')\n",
    "print(f'Correy: {str(percentageCorrey)}% (704200)')\n",
    "print(f'Li: {str(percentageLi)}% (492940)')\n",
    "print(f'OTooley: {str(percentageOTooley)}% (105630)')\n",
    "print('--------------------')\n",
    "print('Winner: Khan')\n",
    "print('--------------------')"
   ]
  },
  {
   "cell_type": "code",
   "execution_count": 57,
   "metadata": {},
   "outputs": [
    {
     "data": {
      "text/plain": [
       "18"
      ]
     },
     "execution_count": 57,
     "metadata": {},
     "output_type": "execute_result"
    }
   ],
   "source": [
    "results = open('analysis/results.txt', 'w')\n",
    "results.write('Election Results\\n')\n",
    "results.write('-----------------\\n')\n",
    "results.write('Total Votes: 3521001\\n')\n",
    "results.write('-----------------\\n')\n",
    "results.write(f'Khan: {str(percentageKhan)}% (2218231)\\n')\n",
    "results.write(f'Correy: {str(percentageCorrey)}% (704200)\\n')\n",
    "results.write(f'Li: {str(percentageLi)}% (492940)\\n')\n",
    "results.write(f'OTooley: {str(percentageOTooley)}% (105630)\\n')\n",
    "results.write('-----------------\\n')\n",
    "results.write('Winner: Khan\\n')\n",
    "results.write('-----------------\\n')"
   ]
  },
  {
   "cell_type": "code",
   "execution_count": null,
   "metadata": {},
   "outputs": [],
   "source": []
  }
 ],
 "metadata": {
  "kernelspec": {
   "display_name": "Python 3",
   "language": "python",
   "name": "python3"
  },
  "language_info": {
   "codemirror_mode": {
    "name": "ipython",
    "version": 3
   },
   "file_extension": ".py",
   "mimetype": "text/x-python",
   "name": "python",
   "nbconvert_exporter": "python",
   "pygments_lexer": "ipython3",
   "version": "3.7.6"
  }
 },
 "nbformat": 4,
 "nbformat_minor": 4
}
